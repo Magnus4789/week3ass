final  python assignment
{
  "nbformat": 4,
  "nbformat_minor": 0,
  "metadata": {
    "colab": {
      "name": "Moringa_Data_Science_Prep_W3_Independent_Project_2021_11_Denver_Munene_DataReport..ipynb",
      "provenance": [],
      "collapsed_sections": []
    },
    "kernelspec": {
      "name": "python3",
      "display_name": "Python 3"
    },
    "language_info": {
      "name": "python"
    }
  },
  "cells": [
    {
      "cell_type": "code",
      "metadata": {
        "id": "gIfiLsHgkD_B"
      },
      "source": [
        "#Data analysis for MTN to upgrade its technology infrastructure for its mobile users in Ivory Coast.\n",
        "#Studying the given datasets provided;cells_geo_description,CDR_description and Telcom Datasets to see how does MTN Cote d'Ivoire should \n",
        "#go about the upgrade of its infrastructure strategy within the given cities\n",
        "\n",
        "#loading pandas for calculations\n",
        "import pandas as pd\n"
      ],
      "execution_count": null,
      "outputs": []
    },
    {
      "cell_type": "code",
      "metadata": {
        "id": "0oVgKmajkTfS"
      },
      "source": [
        "#loadin numpy\n",
        "import numpy as np"
      ],
      "execution_count": null,
      "outputs": []
    },
    {
      "cell_type": "code",
      "metadata": {
        "id": "Ib3QA7V4kXNn"
      },
      "source": [
        "#loading matplotlib for graph inputs\n",
        "import matplotlib.pyplot as plt\n",
        "%matplotlib inline\n"
      ],
      "execution_count": null,
      "outputs": []
    },
    {
      "cell_type": "code",
      "metadata": {
        "id": "Ie6Ginh5kbQc"
      },
      "source": [
        "#loading seaborn\n",
        "import seaborn as sns"
      ],
      "execution_count": null,
      "outputs": []
    },
    {
      "cell_type": "code",
      "metadata": {
        "colab": {
          "base_uri": "https://localhost:8080/",
          "height": 417
        },
        "id": "BiE-s2iikldg",
        "outputId": "089f4fbd-1442-4608-93e1-fb38f442ba25"
      },
      "source": [
        "# Loading the dataset cells_geo_description\n",
        "pd.read_excel('cells_geo_description.xlsx' , index_col=0,header=0)"
      ],
      "execution_count": null,
      "outputs": [
        {
          "output_type": "execute_result",
          "data": {
            "text/html": [
              "<div>\n",
              "<style scoped>\n",
              "    .dataframe tbody tr th:only-of-type {\n",
              "        vertical-align: middle;\n",
              "    }\n",
              "\n",
              "    .dataframe tbody tr th {\n",
              "        vertical-align: top;\n",
              "    }\n",
              "\n",
              "    .dataframe thead th {\n",
              "        text-align: right;\n",
              "    }\n",
              "</style>\n",
              "<table border=\"1\" class=\"dataframe\">\n",
              "  <thead>\n",
              "    <tr style=\"text-align: right;\">\n",
              "      <th></th>\n",
              "      <th>Description</th>\n",
              "      <th>Format</th>\n",
              "    </tr>\n",
              "    <tr>\n",
              "      <th>Column name</th>\n",
              "      <th></th>\n",
              "      <th></th>\n",
              "    </tr>\n",
              "  </thead>\n",
              "  <tbody>\n",
              "    <tr>\n",
              "      <th>VILLES</th>\n",
              "      <td>City</td>\n",
              "      <td>String</td>\n",
              "    </tr>\n",
              "    <tr>\n",
              "      <th>STATUS</th>\n",
              "      <td>In Service or not</td>\n",
              "      <td>String</td>\n",
              "    </tr>\n",
              "    <tr>\n",
              "      <th>LOCALISATION</th>\n",
              "      <td>in ABIDJAN or not</td>\n",
              "      <td>String</td>\n",
              "    </tr>\n",
              "    <tr>\n",
              "      <th>DECOUPZONE</th>\n",
              "      <td>Geographical Zone</td>\n",
              "      <td>String</td>\n",
              "    </tr>\n",
              "    <tr>\n",
              "      <th>ZONENAME</th>\n",
              "      <td>Name of Zone</td>\n",
              "      <td>String</td>\n",
              "    </tr>\n",
              "    <tr>\n",
              "      <th>LONGITUDE</th>\n",
              "      <td>Longitude</td>\n",
              "      <td>Float</td>\n",
              "    </tr>\n",
              "    <tr>\n",
              "      <th>LATITUDE</th>\n",
              "      <td>Latitude</td>\n",
              "      <td>Float</td>\n",
              "    </tr>\n",
              "    <tr>\n",
              "      <th>REGION</th>\n",
              "      <td>Region</td>\n",
              "      <td>String</td>\n",
              "    </tr>\n",
              "    <tr>\n",
              "      <th>AREA</th>\n",
              "      <td>Area</td>\n",
              "      <td>String</td>\n",
              "    </tr>\n",
              "    <tr>\n",
              "      <th>CELL_ID</th>\n",
              "      <td>ID of the cell</td>\n",
              "      <td>String</td>\n",
              "    </tr>\n",
              "    <tr>\n",
              "      <th>SITE_CODE</th>\n",
              "      <td>Site (there are several cells per site, severa...</td>\n",
              "      <td>String</td>\n",
              "    </tr>\n",
              "  </tbody>\n",
              "</table>\n",
              "</div>"
            ],
            "text/plain": [
              "                                                    Description  Format\n",
              "Column name                                                            \n",
              "VILLES                                                     City  String\n",
              "STATUS                                        In Service or not  String\n",
              "LOCALISATION                                  in ABIDJAN or not  String\n",
              "DECOUPZONE                                    Geographical Zone  String\n",
              "ZONENAME                                           Name of Zone  String\n",
              "LONGITUDE                                             Longitude   Float\n",
              "LATITUDE                                               Latitude   Float\n",
              "REGION                                                   Region  String\n",
              "AREA                                                       Area  String\n",
              "CELL_ID                                          ID of the cell  String\n",
              "SITE_CODE     Site (there are several cells per site, severa...  String"
            ]
          },
          "metadata": {},
          "execution_count": 78
        }
      ]
    },
    {
      "cell_type": "code",
      "metadata": {
        "colab": {
          "base_uri": "https://localhost:8080/",
          "height": 430
        },
        "id": "ftBf2v2amQPb",
        "outputId": "3f674544-b6b5-4bb0-913b-c4b2357ad9d0"
      },
      "source": [
        "#loading cells_geo.csv\n",
        "#data appears to be corrupted\n",
        "pd.read_csv('cells_geo.csv' , index_col=0,header=0)"
      ],
      "execution_count": null,
      "outputs": [
        {
          "output_type": "execute_result",
          "data": {
            "text/html": [
              "<div>\n",
              "<style scoped>\n",
              "    .dataframe tbody tr th:only-of-type {\n",
              "        vertical-align: middle;\n",
              "    }\n",
              "\n",
              "    .dataframe tbody tr th {\n",
              "        vertical-align: top;\n",
              "    }\n",
              "\n",
              "    .dataframe thead th {\n",
              "        text-align: right;\n",
              "    }\n",
              "</style>\n",
              "<table border=\"1\" class=\"dataframe\">\n",
              "  <thead>\n",
              "    <tr style=\"text-align: right;\">\n",
              "      <th></th>\n",
              "    </tr>\n",
              "    <tr>\n",
              "      <th>;VILLES;STATUS;LOCALISATION;DECOUPZONE;ZONENAME;LONGITUDE;LATITUDE;REGION;AREA;CELL_ID;SITE_CODE</th>\n",
              "    </tr>\n",
              "  </thead>\n",
              "  <tbody>\n",
              "    <tr>\n",
              "      <th>0;ADJAME;In Service;ABIDJAN;\"\"\"Abidjan_EST\";AGBANNEW;-4.00066666666667;5.36819444444444;LAGUNE;;fbb2e75af3;0bb492ef17</th>\n",
              "    </tr>\n",
              "    <tr>\n",
              "      <th>1;ADJAME;In Service;ABIDJAN;\"\"\"Abidjan_EST\";AGBANNEW;-4.00066666666667;5.36819444444444;LAGUNE;;1502501d78;0bb492ef17</th>\n",
              "    </tr>\n",
              "    <tr>\n",
              "      <th>2;ADJAME;In Service;ABIDJAN;\"\"\"Abidjan_EST\";AGBANNEW;-4.00066666666667;5.36819444444444;LAGUNE;;0c2e182a0c;0bb492ef17</th>\n",
              "    </tr>\n",
              "    <tr>\n",
              "      <th>3;ASSINIE;In Service;INTERIEUR;Grand-EST;\"ASSINIE\"\"\";-3.48846666666667;5.15876111111111;SUD COMOE;;69bdfc69fd;8a1e6ce31f</th>\n",
              "    </tr>\n",
              "    <tr>\n",
              "      <th>4;ASSINIE;In Service;INTERIEUR;Grand-EST;\"ASSINIE\"\"\";-3.48846666666667;5.15876111111111;SUD COMOE;;7a1029d2ab;8a1e6ce31f</th>\n",
              "    </tr>\n",
              "    <tr>\n",
              "      <th>...</th>\n",
              "    </tr>\n",
              "    <tr>\n",
              "      <th>3969;ZUENOULA;In Service;INTERIEUR;Grand-NORD;ZONE A - Grand-NORD;-6.03969444444444;7.42861111111111;MARAHOUE;CENTRE NORTH;1cfc2d7ab1;f91ed8d2e9</th>\n",
              "    </tr>\n",
              "    <tr>\n",
              "      <th>3970;ZUENOULA;In Service;INTERIEUR;Grand-NORD;ZONE A - Grand-NORD;-6.03969444444444;7.42861111111111;MARAHOUE;CENTRE NORTH;3ae1708153;f91ed8d2e9</th>\n",
              "    </tr>\n",
              "    <tr>\n",
              "      <th>3971;ZUENOULA;In Service;INTERIEUR;Grand-NORD;ZONE A - Grand-NORD;-6.06545;7.44459166666667;MARAHOUE;CENTRE NORTH;cb71f8a29c;61bee9c70c</th>\n",
              "    </tr>\n",
              "    <tr>\n",
              "      <th>3972;ZUENOULA;In Service;INTERIEUR;Grand-NORD;ZONE A - Grand-NORD;-6.06545;7.44459166666667;MARAHOUE;CENTRE NORTH;d4a6a0b645;61bee9c70c</th>\n",
              "    </tr>\n",
              "    <tr>\n",
              "      <th>3973;ZUENOULA;In Service;INTERIEUR;Grand-NORD;ZONE A - Grand-NORD;-6.06545;7.44459166666667;MARAHOUE;CENTRE NORTH;f9f3e42589;61bee9c70c</th>\n",
              "    </tr>\n",
              "  </tbody>\n",
              "</table>\n",
              "<p>3974 rows × 0 columns</p>\n",
              "</div>"
            ],
            "text/plain": [
              "Empty DataFrame\n",
              "Columns: []\n",
              "Index: [0;ADJAME;In Service;ABIDJAN;\"\"\"Abidjan_EST\";AGBANNEW;-4.00066666666667;5.36819444444444;LAGUNE;;fbb2e75af3;0bb492ef17, 1;ADJAME;In Service;ABIDJAN;\"\"\"Abidjan_EST\";AGBANNEW;-4.00066666666667;5.36819444444444;LAGUNE;;1502501d78;0bb492ef17, 2;ADJAME;In Service;ABIDJAN;\"\"\"Abidjan_EST\";AGBANNEW;-4.00066666666667;5.36819444444444;LAGUNE;;0c2e182a0c;0bb492ef17, 3;ASSINIE;In Service;INTERIEUR;Grand-EST;\"ASSINIE\"\"\";-3.48846666666667;5.15876111111111;SUD COMOE;;69bdfc69fd;8a1e6ce31f, 4;ASSINIE;In Service;INTERIEUR;Grand-EST;\"ASSINIE\"\"\";-3.48846666666667;5.15876111111111;SUD COMOE;;7a1029d2ab;8a1e6ce31f, 5;ASSINIE;In Service;INTERIEUR;Grand-EST;\"ASSINIE\"\"\";-3.48846666666667;5.15876111111111;SUD COMOE;;0b4f56438f;8a1e6ce31f, 6;KRIKOREA;In Service;INTERIEUR;Grand-OUEST;\"KRIKOREA\"\"\";-6.62705555555556;6.70736111111111;HAUT SASSANDRA;;041d2504f5;260dbfedc5, 7;ABOBO;In Service;ABIDJAN;\"\"\"Abidjan_NORD\";NPONON;-4.02358333333333;5.43569444444444;LAGUNE;;a70c1d263b;56306cc7ca, 8;ABOBO;In Service;ABIDJAN;\"\"\"Abidjan_NORD\";NPONON;-4.02358333333333;5.43569444444444;LAGUNE;;e2d04ea883;56306cc7ca, 9;ABOBO;;ABIDJAN;\"\"\"Abidjan_NORD\";NPONON;-4.02358333333333;5.43569444444444;LAGUNE;;ee224cd27e;56306cc7ca, 10;ABOBO;;ABIDJAN;\"\"\"Abidjan_NORD\";NPONON;-4.02358333333333;5.43569444444444;LAGUNE;;107d0d752c;56306cc7ca, 11;ABOBO;In Service;ABIDJAN;\"\"\"Abidjan_NORD\";OKAHOTEL;-3.99819444444444;5.424;LAGUNE;;3f766cedc0;c1ccd3443b, 12;ABOBO;In Service;ABIDJAN;\"\"\"Abidjan_NORD\";OKAHOTEL;-3.99819444444444;5.424;LAGUNE;;b0578cdb7f;c1ccd3443b, 13;ABOBO;In Service;ABIDJAN;\"\"\"Abidjan_NORD\";OKAHOTEL;-3.99819444444444;5.424;LAGUNE;;18a4221316;c1ccd3443b, 14;ABOBO;In Service;ABIDJAN;\"\"\"Abidjan_NORD\";OKAHOTEL;-3.99819444444444;5.424;LAGUNE;;1b2bccad1f;c1ccd3443b, 15;BINGERVILLE;In Service;ABIDJAN;\"\"\"Abidjan_EST\";PALMABINGERVILLE;-3.91022222222222;5.37363888888889;LAGUNE;;60865ff87f;17899e217a, 16;BINGERVILLE;In Service;ABIDJAN;\"\"\"Abidjan_EST\";PALMABINGERVILLE;-3.91022222222222;5.37363888888889;LAGUNE;;c1dc258dc9;17899e217a, 17;BINGERVILLE;In Service;ABIDJAN;\"\"\"Abidjan_EST\";PALMABINGERVILLE;-3.91022222222222;5.37363888888889;LAGUNE;;377ee76a7e;17899e217a, 18;PLATEAU;In Service;ABIDJAN;\"\"\"Abidjan_CENTRE\";TIAMA;-4.01986111111111;5.32608333333333;LAGUNE;;46185e38ee;aaca2668a7, 19;PLATEAU;In Service;ABIDJAN;\"\"\"Abidjan_CENTRE\";TIAMA;-4.01986111111111;5.32608333333333;LAGUNE;;ddb6bc11df;aaca2668a7, 20;PLATEAU;In Service;ABIDJAN;\"\"\"Abidjan_CENTRE\";TIAMA;-4.01986111111111;5.32608333333333;LAGUNE;;c4d2b0444b;aaca2668a7, 21;ADJAME;In Service;ABIDJAN;\"\"\"Abidjan_EST\";WILLIAMSVILLE2;-4.02880555555556;5.37613888888889;LAGUNE;;fa307adc83;92d827bd96, 22;ADJAME;In Service;ABIDJAN;\"\"\"Abidjan_EST\";WILLIAMSVILLE2;-4.02880555555556;5.37613888888889;LAGUNE;;4ddfebaf66;92d827bd96, 23;ABOBO;In Service;ABIDJAN;Abidjan_NORD;ZONE E - Abidjan_NORD;-4.01413888888889;5.4335;LAGUNE;ABIDJAN NORTH;f740406877;0f34c36ac5, 24;ABOBO;In Service;ABIDJAN;Abidjan_NORD;ZONE E - Abidjan_NORD;-4.01413888888889;5.4335;LAGUNE;ABIDJAN NORTH;959e54c8f7;0f34c36ac5, 25;ABOBO;In Service;ABIDJAN;Abidjan_NORD;ZONE E - Abidjan_NORD;-4.01413888888889;5.4335;LAGUNE;ABIDJAN NORTH;56b7e7000c;0f34c36ac5, 26;ABOBO;In Service;ABIDJAN;Abidjan_NORD;ZONE E - Abidjan_NORD;-4.01413888888889;5.4335;LAGUNE;ABIDJAN NORTH;bc51c17a6f;0f34c36ac5, 27;ABOBO;In Service;ABIDJAN;Abidjan_NORD;ZONE E - Abidjan_NORD;-4.01413888888889;5.4335;LAGUNE;ABIDJAN NORTH;e460975c9f;0f34c36ac5, 28;ABOBO;In Service;ABIDJAN;Abidjan_NORD;ZONE E - Abidjan_NORD;-4.01413888888889;5.4335;LAGUNE;ABIDJAN NORTH;2d125e9a95;0f34c36ac5, 29;ABOBO;In Service;ABIDJAN;Abidjan_NORD;ZONE E - Abidjan_NORD;-4.05919444444444;5.44861111111111;LAGUNE;ABIDJAN NORTH;7cf207ef76;7430461f18, 30;ABOBO;In Service;ABIDJAN;Abidjan_NORD;ZONE E - Abidjan_NORD;-4.05919444444444;5.44861111111111;LAGUNE;ABIDJAN NORTH;49377d7ad6;7430461f18, 31;ABOBO;In Service;ABIDJAN;Abidjan_NORD;ZONE E - Abidjan_NORD;-4.05919444444444;5.44861111111111;LAGUNE;ABIDJAN NORTH;558c31e1a6;7430461f18, 32;ABOBO;In Service;ABIDJAN;Abidjan_NORD;ZONE E - Abidjan_NORD;-4.05919444444444;5.44861111111111;LAGUNE;ABIDJAN NORTH;6a7a3aeebe;7430461f18, 33;ABOBO;In Service;ABIDJAN;Abidjan_NORD;ZONE E - Abidjan_NORD;-4.05919444444444;5.44861111111111;LAGUNE;ABIDJAN NORTH;28ef177389;7430461f18, 34;ABOBO;In Service;ABIDJAN;Abidjan_NORD;ZONE E - Abidjan_NORD;-4.05919444444444;5.44861111111111;LAGUNE;ABIDJAN NORTH;fb7b3b953d;7430461f18, 35;BINGERVILLE;In Service;ABIDJAN;Abidjan_EST;ZONE B - Abidjan_EST;-3.91958333333333;5.34608333333333;LAGUNE;ABIDJAN NORTH;1ca30ab7f2;ed2333b820, 36;BINGERVILLE;In Service;ABIDJAN;Abidjan_EST;ZONE B - Abidjan_EST;-3.91958333333333;5.34608333333333;LAGUNE;ABIDJAN NORTH;70ca5922f2;ed2333b820, 37;BINGERVILLE;In Service;ABIDJAN;Abidjan_EST;ZONE B - Abidjan_EST;-3.91958333333333;5.34608333333333;LAGUNE;ABIDJAN NORTH;a587218b55;ed2333b820, 38;DALOA;In Service;INTERIEUR;Grand-OUEST;ZONE D - Grand-OUEST;-6.43402777777778;6.85966666666667;HAUT SASSANDRA;NORTH WEST;d133371158;06c4cb622d, 39;DALOA;In Service;INTERIEUR;Grand-OUEST;ZONE D - Grand-OUEST;-6.43402777777778;6.85966666666667;HAUT SASSANDRA;NORTH WEST;77c2b596ad;06c4cb622d, 40;DALOA;In Service;INTERIEUR;Grand-OUEST;ZONE D - Grand-OUEST;-6.43402777777778;6.85966666666667;HAUT SASSANDRA;NORTH WEST;9cc0a0a14a;06c4cb622d, 41;DALOA;In Service;INTERIEUR;Grand-OUEST;ZONE D - Grand-OUEST;-6.43402777777778;6.85966666666667;HAUT SASSANDRA;NORTH WEST;af4aefb2f4;06c4cb622d, 42;DALOA;In Service;INTERIEUR;Grand-OUEST;ZONE D - Grand-OUEST;-6.43402777777778;6.85966666666667;HAUT SASSANDRA;NORTH WEST;de28a5d4d6;06c4cb622d, 43;DALOA;In Service;INTERIEUR;Grand-OUEST;ZONE D - Grand-OUEST;-6.43402777777778;6.85966666666667;HAUT SASSANDRA;NORTH WEST;6d0fccf527;06c4cb622d, 44;ABENGOUROU;In Service;INTERIEUR;Grand-EST;ZONE C - Grand-EST;-3.51483333333333;6.72233333333333;MOYEN COMOE;EAST;8cdfc1bc65;6e87d6cb59, 45;ABENGOUROU;In Service;INTERIEUR;Grand-EST;ZONE C - Grand-EST;-3.51483333333333;6.72233333333333;MOYEN COMOE;EAST;068ef168c8;6e87d6cb59, 46;ABENGOUROU;In Service;INTERIEUR;Grand-EST;ZONE C - Grand-EST;-3.51483333333333;6.72233333333333;MOYEN COMOE;EAST;f27e3dc31d;6e87d6cb59, 47;ABENGOUROU;In Service;INTERIEUR;Grand-EST;ZONE C - Grand-EST;-3.48047222222222;6.71816666666667;MOYEN COMOE;EAST;409393b253;aa2d7103fc, 48;ABENGOUROU;In Service;INTERIEUR;Grand-EST;ZONE C - Grand-EST;-3.48047222222222;6.71816666666667;MOYEN COMOE;EAST;cdb74d6e84;aa2d7103fc, 49;ABENGOUROU;In Service;INTERIEUR;Grand-EST;ZONE C - Grand-EST;-3.48047222222222;6.71816666666667;MOYEN COMOE;EAST;5b2176898a;aa2d7103fc, 50;ABENGOUROU;In Service;INTERIEUR;Grand-EST;ZONE C - Grand-EST;-3.4975;6.72741666666667;MOYEN COMOE;EAST;6954a418ce;00197a4f5f, 51;ABENGOUROU;In Service;INTERIEUR;Grand-EST;ZONE C - Grand-EST;-3.4975;6.72741666666667;MOYEN COMOE;EAST;2e4b9ad370;00197a4f5f, 52;ABENGOUROU;In Service;INTERIEUR;Grand-EST;ZONE C - Grand-EST;-3.4975;6.72741666666667;MOYEN COMOE;EAST;aa42aca73b;00197a4f5f, 53;ABENGOUROU;In Service;INTERIEUR;Grand-EST;ZONE C - Grand-EST;-3.50622222222222;6.74194444444444;MOYEN COMOE;EAST;564d597366;547385b9d5, 54;ABENGOUROU;In Service;INTERIEUR;Grand-EST;ZONE C - Grand-EST;-3.50622222222222;6.74194444444444;MOYEN COMOE;EAST;c811bd179b;547385b9d5, 55;ABENGOUROU;In Service;INTERIEUR;Grand-EST;ZONE C - Grand-EST;-3.50622222222222;6.74194444444444;MOYEN COMOE;EAST;a43c9bf333;547385b9d5, 56;ABENGOUROU;In Service;INTERIEUR;Grand-EST;ZONE C - Grand-EST;-3.48019444444444;6.73930555555556;MOYEN COMOE;EAST;ff33a69318;40cb5c4468, 57;ABENGOUROU;In Service;INTERIEUR;Grand-EST;ZONE C - Grand-EST;-3.48019444444444;6.73930555555556;MOYEN COMOE;EAST;330e0056d3;40cb5c4468, 58;ABENGOUROU;In Service;INTERIEUR;Grand-EST;ZONE C - Grand-EST;-3.48019444444444;6.73930555555556;MOYEN COMOE;EAST;318b00a960;40cb5c4468, 59;ABENGOUROU;In Service;INTERIEUR;Grand-EST;ZONE C - Grand-EST;-3.48019444444444;6.73930555555556;MOYEN COMOE;EAST;9413d07006;40cb5c4468, 60;ABENGOUROU;In Service;INTERIEUR;Grand-EST;ZONE C - Grand-EST;-3.48019444444444;6.73930555555556;MOYEN COMOE;EAST;da0a0f5dcd;40cb5c4468, 61;ABENGOUROU;In Service;INTERIEUR;Grand-EST;ZONE C - Grand-EST;-3.48019444444444;6.73930555555556;MOYEN COMOE;EAST;30ae371516;40cb5c4468, 62;ABENGOUROU;In Service;INTERIEUR;Grand-EST;ZONE C - Grand-EST;-3.4975;6.72741666666667;MOYEN COMOE;EAST;969c39ae2d;00197a4f5f, 63;ABENGOUROU;In Service;INTERIEUR;Grand-EST;ZONE C - Grand-EST;-3.4975;6.72741666666667;MOYEN COMOE;EAST;8a1e6ce31f;00197a4f5f, 64;ABENGOUROU;In Service;INTERIEUR;Grand-EST;ZONE C - Grand-EST;-3.4975;6.72741666666667;MOYEN COMOE;EAST;9bd64a932f;00197a4f5f, 65;ABOBO;In Service;ABIDJAN;Abidjan_NORD;ZONE E - Abidjan_NORD;-4.00783333333333;5.44061111111111;LAGUNE;ABIDJAN NORTH;4328f15c66;4df1cab780, 66;ABOBO;In Service;ABIDJAN;Abidjan_NORD;ZONE E - Abidjan_NORD;-4.00783333333333;5.44061111111111;LAGUNE;ABIDJAN NORTH;9f10dbbb99;4df1cab780, 67;ABOBO;In Service;ABIDJAN;Abidjan_NORD;ZONE E - Abidjan_NORD;-4.00783333333333;5.44061111111111;LAGUNE;ABIDJAN NORTH;49bc81d3b2;4df1cab780, 68;ABOBO;In Service;ABIDJAN;Abidjan_NORD;ZONE E - Abidjan_NORD;-4.00783333333333;5.44061111111111;LAGUNE;ABIDJAN NORTH;71fb04e216;4df1cab780, 69;ABOBO;In Service;ABIDJAN;Abidjan_NORD;ZONE E - Abidjan_NORD;-4.00783333333333;5.44061111111111;LAGUNE;ABIDJAN NORTH;4cdaa464e7;4df1cab780, 70;ABOBO;In Service;ABIDJAN;Abidjan_NORD;ZONE E - Abidjan_NORD;-4.00783333333333;5.44061111111111;LAGUNE;ABIDJAN NORTH;a64d6038c5;4df1cab780, 71;ABOBO;In Service;ABIDJAN;Abidjan_NORD;ZONE E - Abidjan_NORD;-4.01916666666667;5.42505555555556;LAGUNE;ABIDJAN NORTH;d214f6d918;8117043112, 72;ABOBO;In Service;ABIDJAN;Abidjan_NORD;ZONE E - Abidjan_NORD;-4.01916666666667;5.42505555555556;LAGUNE;ABIDJAN NORTH;81bdbbf775;8117043112, 73;ABOBO;In Service;ABIDJAN;Abidjan_NORD;ZONE E - Abidjan_NORD;-4.01916666666667;5.42505555555556;LAGUNE;ABIDJAN NORTH;80de4c7ba6;8117043112, 74;ABOBO;In Service;ABIDJAN;Abidjan_NORD;ZONE E - Abidjan_NORD;-4.01916666666667;5.42505555555556;LAGUNE;ABIDJAN NORTH;7597651fab;8117043112, 75;ABOBO;In Service;ABIDJAN;Abidjan_NORD;ZONE E - Abidjan_NORD;-4.01916666666667;5.42505555555556;LAGUNE;ABIDJAN NORTH;471dfb0a7d;8117043112, 76;ABOBO;In Service;ABIDJAN;Abidjan_NORD;ZONE E - Abidjan_NORD;-4.01916666666667;5.42505555555556;LAGUNE;ABIDJAN NORTH;2c5b020e51;8117043112, 77;ABOBO;In Service;ABIDJAN;Abidjan_NORD;ZONE E - Abidjan_NORD;-4.02333333333333;5.42741666666667;LAGUNE;ABIDJAN NORTH;d43ccddfde;2371f0c1df, 78;ABOBO;In Service;ABIDJAN;Abidjan_NORD;ZONE E - Abidjan_NORD;-4.02333333333333;5.42741666666667;LAGUNE;ABIDJAN NORTH;d2b3225b25;2371f0c1df, 79;ABOBO;In Service;ABIDJAN;Abidjan_NORD;ZONE E - Abidjan_NORD;-4.02333333333333;5.42741666666667;LAGUNE;ABIDJAN NORTH;8b9fcb248f;2371f0c1df, 80;ABOBO;In Service;ABIDJAN;Abidjan_NORD;ZONE E - Abidjan_NORD;-4.02333333333333;5.42741666666667;LAGUNE;ABIDJAN NORTH;257ffc6214;2371f0c1df, 81;ABOBO;In Service;ABIDJAN;Abidjan_NORD;ZONE E - Abidjan_NORD;-4.02333333333333;5.42741666666667;LAGUNE;ABIDJAN NORTH;5c75b48e72;2371f0c1df, 82;ABOBO;In Service;ABIDJAN;Abidjan_NORD;ZONE E - Abidjan_NORD;-4.02333333333333;5.42741666666667;LAGUNE;ABIDJAN NORTH;b982e56e2a;2371f0c1df, 83;ABOBO;In Service;ABIDJAN;Abidjan_NORD;ZONE E - Abidjan_NORD;-4.02016666666667;5.41147222222222;LAGUNE;ABIDJAN NORTH;a97cf2cba0;70a989da87, 84;ABOBO;In Service;ABIDJAN;Abidjan_NORD;ZONE E - Abidjan_NORD;-4.02016666666667;5.41147222222222;LAGUNE;ABIDJAN NORTH;729fdf3ff8;70a989da87, 85;ABOBO;In Service;ABIDJAN;Abidjan_NORD;ZONE E - Abidjan_NORD;-4.02016666666667;5.41147222222222;LAGUNE;ABIDJAN NORTH;033f3acd20;70a989da87, 86;ABOBO;In Service;ABIDJAN;Abidjan_NORD;ZONE E - Abidjan_NORD;-4.02016666666667;5.41147222222222;LAGUNE;ABIDJAN NORTH;5fb108850b;70a989da87, 87;ABOBO;In Service;ABIDJAN;Abidjan_NORD;ZONE E - Abidjan_NORD;-4.02016666666667;5.41147222222222;LAGUNE;ABIDJAN NORTH;98aeb969b3;70a989da87, 88;ABOBO;In Service;ABIDJAN;Abidjan_NORD;ZONE E - Abidjan_NORD;-4.02016666666667;5.41147222222222;LAGUNE;ABIDJAN NORTH;d7e48cc8fe;70a989da87, 89;ABOBO;In Service;ABIDJAN;Abidjan_NORD;ZONE E - Abidjan_NORD;-3.98244444444444;5.42502777777778;LAGUNE;ABIDJAN NORTH;704c5b2d5d;1c5e6fb08e, 90;ABOBO;In Service;ABIDJAN;Abidjan_NORD;ZONE E - Abidjan_NORD;-3.98244444444444;5.42502777777778;LAGUNE;ABIDJAN NORTH;d9e9cffced;1c5e6fb08e, 91;ABOBO;In Service;ABIDJAN;Abidjan_NORD;ZONE E - Abidjan_NORD;-3.98244444444444;5.42502777777778;LAGUNE;ABIDJAN NORTH;f20daa4efa;1c5e6fb08e, 92;ABOBO;In Service;ABIDJAN;Abidjan_NORD;ZONE E - Abidjan_NORD;-3.99227777777778;5.41852777777778;LAGUNE;ABIDJAN NORTH;20e538182a;ad67d8727e, 93;ABOBO;In Service;ABIDJAN;Abidjan_NORD;ZONE E - Abidjan_NORD;-3.99227777777778;5.41852777777778;LAGUNE;ABIDJAN NORTH;ac7829fb66;ad67d8727e, 94;ABOBO;In Service;ABIDJAN;Abidjan_NORD;ZONE E - Abidjan_NORD;-3.99227777777778;5.41852777777778;LAGUNE;ABIDJAN NORTH;e690e22c08;ad67d8727e, 95;ABOBO;In Service;ABIDJAN;Abidjan_NORD;ZONE E - Abidjan_NORD;-3.99227777777778;5.41852777777778;LAGUNE;ABIDJAN NORTH;2c18b14d1a;ad67d8727e, 96;ABOBO;In Service;ABIDJAN;Abidjan_NORD;ZONE E - Abidjan_NORD;-3.99227777777778;5.41852777777778;LAGUNE;ABIDJAN NORTH;ac60e8e2ba;ad67d8727e, 97;ABOBO;In Service;ABIDJAN;Abidjan_NORD;ZONE E - Abidjan_NORD;-3.99227777777778;5.41852777777778;LAGUNE;ABIDJAN NORTH;d73eea8c61;ad67d8727e, 98;ABOBO;In Service;ABIDJAN;Abidjan_NORD;ZONE E - Abidjan_NORD;-4.02333333333333;5.45027777777778;LAGUNE;ABIDJAN NORTH;9e8a10be39;d4b46cdec7, 99;ABOBO;In Service;ABIDJAN;Abidjan_NORD;ZONE E - Abidjan_NORD;-4.02333333333333;5.45027777777778;LAGUNE;ABIDJAN NORTH;8cee22269d;d4b46cdec7, ...]\n",
              "\n",
              "[3974 rows x 0 columns]"
            ]
          },
          "metadata": {},
          "execution_count": 74
        }
      ]
    },
    {
      "cell_type": "code",
      "metadata": {
        "colab": {
          "base_uri": "https://localhost:8080/",
          "height": 387
        },
        "id": "FM8RLTlpS8cD",
        "outputId": "384f7942-2405-4079-d0bc-1762dbefe4f7"
      },
      "source": [
        "#Loading dataset from CDR_description\n",
        "#it should be noted data is vague and unable to make sense of it\n",
        "\n",
        "pd.read_excel('CDR_description.xlsx' , index_col=0,header=0)"
      ],
      "execution_count": null,
      "outputs": [
        {
          "output_type": "execute_result",
          "data": {
            "text/html": [
              "<div>\n",
              "<style scoped>\n",
              "    .dataframe tbody tr th:only-of-type {\n",
              "        vertical-align: middle;\n",
              "    }\n",
              "\n",
              "    .dataframe tbody tr th {\n",
              "        vertical-align: top;\n",
              "    }\n",
              "\n",
              "    .dataframe thead th {\n",
              "        text-align: right;\n",
              "    }\n",
              "</style>\n",
              "<table border=\"1\" class=\"dataframe\">\n",
              "  <thead>\n",
              "    <tr style=\"text-align: right;\">\n",
              "      <th></th>\n",
              "      <th>Description</th>\n",
              "      <th>Format</th>\n",
              "    </tr>\n",
              "    <tr>\n",
              "      <th>Column name</th>\n",
              "      <th></th>\n",
              "      <th></th>\n",
              "    </tr>\n",
              "  </thead>\n",
              "  <tbody>\n",
              "    <tr>\n",
              "      <th>PRODUCT</th>\n",
              "      <td>Voice or SMS</td>\n",
              "      <td>String</td>\n",
              "    </tr>\n",
              "    <tr>\n",
              "      <th>VALUE</th>\n",
              "      <td>Billing price</td>\n",
              "      <td>Integer</td>\n",
              "    </tr>\n",
              "    <tr>\n",
              "      <th>DATE_TIME</th>\n",
              "      <td>Time in format yyyy-MM-dd hh:mm:ss.0</td>\n",
              "      <td>String</td>\n",
              "    </tr>\n",
              "    <tr>\n",
              "      <th>CELL_ON_SITE</th>\n",
              "      <td>Which cell in the site was used (not needed here)</td>\n",
              "      <td>Integer</td>\n",
              "    </tr>\n",
              "    <tr>\n",
              "      <th>DW_A_NUMBER_INT</th>\n",
              "      <td>Anonymized phone number of the person for whic...</td>\n",
              "      <td>String</td>\n",
              "    </tr>\n",
              "    <tr>\n",
              "      <th>DW_B_NUMBER_INT</th>\n",
              "      <td>Anonymized phone number of the counterparty</td>\n",
              "      <td>String</td>\n",
              "    </tr>\n",
              "    <tr>\n",
              "      <th>COUNTRY_A</th>\n",
              "      <td>Country of party A (useless here)</td>\n",
              "      <td>String</td>\n",
              "    </tr>\n",
              "    <tr>\n",
              "      <th>COUNTRY_B</th>\n",
              "      <td>Country of party B (useless here)</td>\n",
              "      <td>String</td>\n",
              "    </tr>\n",
              "    <tr>\n",
              "      <th>CELL_ID</th>\n",
              "      <td>ID of the cell</td>\n",
              "      <td>String</td>\n",
              "    </tr>\n",
              "    <tr>\n",
              "      <th>SITE_ID</th>\n",
              "      <td>ID of the SITE</td>\n",
              "      <td>String</td>\n",
              "    </tr>\n",
              "  </tbody>\n",
              "</table>\n",
              "</div>"
            ],
            "text/plain": [
              "                                                       Description   Format\n",
              "Column name                                                                \n",
              "PRODUCT                                               Voice or SMS   String\n",
              "VALUE                                                Billing price  Integer\n",
              "DATE_TIME                     Time in format yyyy-MM-dd hh:mm:ss.0   String\n",
              "CELL_ON_SITE     Which cell in the site was used (not needed here)  Integer\n",
              "DW_A_NUMBER_INT  Anonymized phone number of the person for whic...   String\n",
              "DW_B_NUMBER_INT        Anonymized phone number of the counterparty   String\n",
              "COUNTRY_A                        Country of party A (useless here)   String\n",
              "COUNTRY_B                        Country of party B (useless here)   String\n",
              "CELL_ID                                             ID of the cell   String\n",
              "SITE_ID                                             ID of the SITE   String"
            ]
          },
          "metadata": {},
          "execution_count": 72
        }
      ]
    },
    {
      "cell_type": "code",
      "metadata": {
        "colab": {
          "base_uri": "https://localhost:8080/",
          "height": 202
        },
        "id": "rHZO0CjTTRqf",
        "outputId": "b6f343f7-ecba-49ef-e0c4-d6338dcb7217"
      },
      "source": [
        "#Loading Dataset for Telecom Dataset 1\n",
        "#Dataset appears not to have cities in Cote d'Ivoire\n",
        "df1 = pd.read_csv('http://bit.ly/Telcom_dataset1' ,encoding = 'utf-8')\n",
        "df1.head(5)"
      ],
      "execution_count": null,
      "outputs": [
        {
          "output_type": "execute_result",
          "data": {
            "text/html": [
              "<div>\n",
              "<style scoped>\n",
              "    .dataframe tbody tr th:only-of-type {\n",
              "        vertical-align: middle;\n",
              "    }\n",
              "\n",
              "    .dataframe tbody tr th {\n",
              "        vertical-align: top;\n",
              "    }\n",
              "\n",
              "    .dataframe thead th {\n",
              "        text-align: right;\n",
              "    }\n",
              "</style>\n",
              "<table border=\"1\" class=\"dataframe\">\n",
              "  <thead>\n",
              "    <tr style=\"text-align: right;\">\n",
              "      <th></th>\n",
              "      <th>PRODUTC</th>\n",
              "      <th>VALUE</th>\n",
              "      <th>DATETIME</th>\n",
              "      <th>CELL_ON_SITE</th>\n",
              "      <th>DW_A_NUMBER_INT</th>\n",
              "      <th>DW_B_NUMBER_INT</th>\n",
              "      <th>COUNTRY_A</th>\n",
              "      <th>COUNTRY_B</th>\n",
              "      <th>CELL_ID</th>\n",
              "      <th>SITE_ID</th>\n",
              "    </tr>\n",
              "  </thead>\n",
              "  <tbody>\n",
              "    <tr>\n",
              "      <th>0</th>\n",
              "      <td>Voice</td>\n",
              "      <td>0</td>\n",
              "      <td>2012-05-06 23:04:37.0</td>\n",
              "      <td>1</td>\n",
              "      <td>49fae048b547780</td>\n",
              "      <td>1a49f8b0ded9de6</td>\n",
              "      <td>19e2e</td>\n",
              "      <td>19e2e</td>\n",
              "      <td>/TJNe+Mmtu</td>\n",
              "      <td>/TJNe+Mmtu</td>\n",
              "    </tr>\n",
              "    <tr>\n",
              "      <th>1</th>\n",
              "      <td>sms</td>\n",
              "      <td>0</td>\n",
              "      <td>2012-05-06 23:05:25.0</td>\n",
              "      <td>0</td>\n",
              "      <td>7a54a6eaee19e65</td>\n",
              "      <td>93343ba6e41af95</td>\n",
              "      <td>19e2e</td>\n",
              "      <td>19e2e</td>\n",
              "      <td>/+cKZKIp41</td>\n",
              "      <td>/+cKZKIp41</td>\n",
              "    </tr>\n",
              "    <tr>\n",
              "      <th>2</th>\n",
              "      <td>sms</td>\n",
              "      <td>25</td>\n",
              "      <td>2012-05-06 23:05:41.0</td>\n",
              "      <td>0</td>\n",
              "      <td>6008887b0207d82</td>\n",
              "      <td>7aacc9709ce0a20</td>\n",
              "      <td>19e2e</td>\n",
              "      <td>19e2e</td>\n",
              "      <td>/u0FSD+ahi</td>\n",
              "      <td>/u0FSD+ahi</td>\n",
              "    </tr>\n",
              "    <tr>\n",
              "      <th>3</th>\n",
              "      <td>Voice</td>\n",
              "      <td>56</td>\n",
              "      <td>2012-05-06 23:05:42.0</td>\n",
              "      <td>1</td>\n",
              "      <td>7370032e20f4e96</td>\n",
              "      <td>6af4a60e74c91d3</td>\n",
              "      <td>19e2e</td>\n",
              "      <td>19e2e</td>\n",
              "      <td>+cNeJzsTp3</td>\n",
              "      <td>+cNeJzsTp3</td>\n",
              "    </tr>\n",
              "    <tr>\n",
              "      <th>4</th>\n",
              "      <td>Voice</td>\n",
              "      <td>14</td>\n",
              "      <td>2012-05-06 23:06:29.0</td>\n",
              "      <td>1</td>\n",
              "      <td>966ba4656e38e62</td>\n",
              "      <td>02aa736ee555d5c</td>\n",
              "      <td>19e2e</td>\n",
              "      <td>19e2e</td>\n",
              "      <td>051KhYDCpv</td>\n",
              "      <td>051KhYDCpv</td>\n",
              "    </tr>\n",
              "  </tbody>\n",
              "</table>\n",
              "</div>"
            ],
            "text/plain": [
              "  PRODUTC  VALUE               DATETIME  ... COUNTRY_B     CELL_ID     SITE_ID\n",
              "0   Voice      0  2012-05-06 23:04:37.0  ...     19e2e  /TJNe+Mmtu  /TJNe+Mmtu\n",
              "1     sms      0  2012-05-06 23:05:25.0  ...     19e2e  /+cKZKIp41  /+cKZKIp41\n",
              "2     sms     25  2012-05-06 23:05:41.0  ...     19e2e  /u0FSD+ahi  /u0FSD+ahi\n",
              "3   Voice     56  2012-05-06 23:05:42.0  ...     19e2e  +cNeJzsTp3  +cNeJzsTp3\n",
              "4   Voice     14  2012-05-06 23:06:29.0  ...     19e2e  051KhYDCpv  051KhYDCpv\n",
              "\n",
              "[5 rows x 10 columns]"
            ]
          },
          "metadata": {},
          "execution_count": 5
        }
      ]
    },
    {
      "cell_type": "code",
      "metadata": {
        "colab": {
          "base_uri": "https://localhost:8080/",
          "height": 202
        },
        "id": "e0FuHjkxTtcU",
        "outputId": "798852a9-a5af-498b-e5b5-69a90e1fd447"
      },
      "source": [
        "#Loading Dataset for Telecom Dataset 2\n",
        "#Dataset appears not to have cities in Cote d'Ivoire\n",
        "\n",
        "df2 = pd.read_csv('http://bit.ly/Telcom_dataset2' ,encoding = 'utf-8')\n",
        "df2.head(5)"
      ],
      "execution_count": null,
      "outputs": [
        {
          "output_type": "execute_result",
          "data": {
            "text/html": [
              "<div>\n",
              "<style scoped>\n",
              "    .dataframe tbody tr th:only-of-type {\n",
              "        vertical-align: middle;\n",
              "    }\n",
              "\n",
              "    .dataframe tbody tr th {\n",
              "        vertical-align: top;\n",
              "    }\n",
              "\n",
              "    .dataframe thead th {\n",
              "        text-align: right;\n",
              "    }\n",
              "</style>\n",
              "<table border=\"1\" class=\"dataframe\">\n",
              "  <thead>\n",
              "    <tr style=\"text-align: right;\">\n",
              "      <th></th>\n",
              "      <th>PRODUCT</th>\n",
              "      <th>VALUE</th>\n",
              "      <th>DATE_TIME</th>\n",
              "      <th>CELL_ON_SITE</th>\n",
              "      <th>DW_A_NUMBER</th>\n",
              "      <th>DW_B_NUMBER</th>\n",
              "      <th>COUNTRY_A</th>\n",
              "      <th>COUNTRY_B</th>\n",
              "      <th>CELL_ID</th>\n",
              "      <th>SITE_ID</th>\n",
              "    </tr>\n",
              "  </thead>\n",
              "  <tbody>\n",
              "    <tr>\n",
              "      <th>0</th>\n",
              "      <td>sms</td>\n",
              "      <td>0</td>\n",
              "      <td>2012-05-07 23:02:06.0</td>\n",
              "      <td>2</td>\n",
              "      <td>32255675c3b6fe3</td>\n",
              "      <td>1aa7ae01386e9fb</td>\n",
              "      <td>19e2e</td>\n",
              "      <td>19e2e</td>\n",
              "      <td>+854AcBQT2</td>\n",
              "      <td>+854AcBQT2</td>\n",
              "    </tr>\n",
              "    <tr>\n",
              "      <th>1</th>\n",
              "      <td>Voice</td>\n",
              "      <td>0</td>\n",
              "      <td>2012-05-07 23:03:44.0</td>\n",
              "      <td>1</td>\n",
              "      <td>ff16d6ac74c1c64</td>\n",
              "      <td>87d87309c15a8c9</td>\n",
              "      <td>19e2e</td>\n",
              "      <td>19e2e</td>\n",
              "      <td>+854AcBQT2</td>\n",
              "      <td>+854AcBQT2</td>\n",
              "    </tr>\n",
              "    <tr>\n",
              "      <th>2</th>\n",
              "      <td>sms</td>\n",
              "      <td>0</td>\n",
              "      <td>2012-05-07 23:04:06.0</td>\n",
              "      <td>0</td>\n",
              "      <td>98d9f2fb5ff624b</td>\n",
              "      <td>93343ba6e41af95</td>\n",
              "      <td>19e2e</td>\n",
              "      <td>19e2e</td>\n",
              "      <td>+laSrk7g6q</td>\n",
              "      <td>+laSrk7g6q</td>\n",
              "    </tr>\n",
              "    <tr>\n",
              "      <th>3</th>\n",
              "      <td>Voice</td>\n",
              "      <td>37</td>\n",
              "      <td>2012-05-07 23:04:48.0</td>\n",
              "      <td>1</td>\n",
              "      <td>3f9c8a33ec7be1f</td>\n",
              "      <td>7d05a38f89c49d8</td>\n",
              "      <td>19e2e</td>\n",
              "      <td>19e2e</td>\n",
              "      <td>/xvRrCVKoQ</td>\n",
              "      <td>/xvRrCVKoQ</td>\n",
              "    </tr>\n",
              "    <tr>\n",
              "      <th>4</th>\n",
              "      <td>sms</td>\n",
              "      <td>25</td>\n",
              "      <td>2012-05-07 23:04:58.0</td>\n",
              "      <td>1</td>\n",
              "      <td>7bcccc03adf3864</td>\n",
              "      <td>56a5d5430d2fa86</td>\n",
              "      <td>19e2e</td>\n",
              "      <td>19e2e</td>\n",
              "      <td>+bO+qkSonO</td>\n",
              "      <td>+bO+qkSonO</td>\n",
              "    </tr>\n",
              "  </tbody>\n",
              "</table>\n",
              "</div>"
            ],
            "text/plain": [
              "  PRODUCT  VALUE              DATE_TIME  ... COUNTRY_B     CELL_ID     SITE_ID\n",
              "0     sms      0  2012-05-07 23:02:06.0  ...     19e2e  +854AcBQT2  +854AcBQT2\n",
              "1   Voice      0  2012-05-07 23:03:44.0  ...     19e2e  +854AcBQT2  +854AcBQT2\n",
              "2     sms      0  2012-05-07 23:04:06.0  ...     19e2e  +laSrk7g6q  +laSrk7g6q\n",
              "3   Voice     37  2012-05-07 23:04:48.0  ...     19e2e  /xvRrCVKoQ  /xvRrCVKoQ\n",
              "4     sms     25  2012-05-07 23:04:58.0  ...     19e2e  +bO+qkSonO  +bO+qkSonO\n",
              "\n",
              "[5 rows x 10 columns]"
            ]
          },
          "metadata": {},
          "execution_count": 14
        }
      ]
    },
    {
      "cell_type": "code",
      "metadata": {
        "colab": {
          "base_uri": "https://localhost:8080/",
          "height": 202
        },
        "id": "25oa2_UQUOTk",
        "outputId": "ca56d3d1-5a68-442e-e48b-5f2f3f125e5e"
      },
      "source": [
        "#Loading Dataset for Telecom Dataset 3\n",
        "#Dataset appears not to have cities in Cote d'Ivoire\n",
        "\n",
        "df3 = pd.read_csv('http://bit.ly/Telcom_dataset3' ,encoding = 'utf-8')\n",
        "df3.head(5)"
      ],
      "execution_count": null,
      "outputs": [
        {
          "output_type": "execute_result",
          "data": {
            "text/html": [
              "<div>\n",
              "<style scoped>\n",
              "    .dataframe tbody tr th:only-of-type {\n",
              "        vertical-align: middle;\n",
              "    }\n",
              "\n",
              "    .dataframe tbody tr th {\n",
              "        vertical-align: top;\n",
              "    }\n",
              "\n",
              "    .dataframe thead th {\n",
              "        text-align: right;\n",
              "    }\n",
              "</style>\n",
              "<table border=\"1\" class=\"dataframe\">\n",
              "  <thead>\n",
              "    <tr style=\"text-align: right;\">\n",
              "      <th></th>\n",
              "      <th>PRODUCT</th>\n",
              "      <th>VALUE</th>\n",
              "      <th>DATE_TIME</th>\n",
              "      <th>CELL_ON_SITE</th>\n",
              "      <th>DW_A_NUMBER_INT</th>\n",
              "      <th>DW_B_NUMBER_INT</th>\n",
              "      <th>COUNTRY_A</th>\n",
              "      <th>COUNTRY_B</th>\n",
              "      <th>CELLID</th>\n",
              "      <th>SIET_ID</th>\n",
              "    </tr>\n",
              "  </thead>\n",
              "  <tbody>\n",
              "    <tr>\n",
              "      <th>0</th>\n",
              "      <td>Voice</td>\n",
              "      <td>61</td>\n",
              "      <td>2012-05-08 23:01:28.0</td>\n",
              "      <td>2</td>\n",
              "      <td>966f68353622feb</td>\n",
              "      <td>ffd53a3bb2db6f1</td>\n",
              "      <td>19e2e</td>\n",
              "      <td>19e2e</td>\n",
              "      <td>+38u2u/rfx</td>\n",
              "      <td>+38u2u/rfx</td>\n",
              "    </tr>\n",
              "    <tr>\n",
              "      <th>1</th>\n",
              "      <td>sms</td>\n",
              "      <td>0</td>\n",
              "      <td>2012-05-08 23:01:31.0</td>\n",
              "      <td>1</td>\n",
              "      <td>a0a597384c612d7</td>\n",
              "      <td>cf3b218f1dde792</td>\n",
              "      <td>19e2e</td>\n",
              "      <td>19e2e</td>\n",
              "      <td>+Fs4mTvdKx</td>\n",
              "      <td>+Fs4mTvdKx</td>\n",
              "    </tr>\n",
              "    <tr>\n",
              "      <th>2</th>\n",
              "      <td>Voice</td>\n",
              "      <td>10</td>\n",
              "      <td>2012-05-08 23:02:59.0</td>\n",
              "      <td>1</td>\n",
              "      <td>5441a9a58c97132</td>\n",
              "      <td>52f8b299515b9b7</td>\n",
              "      <td>19e2e</td>\n",
              "      <td>19e2e</td>\n",
              "      <td>+ZaaZozy/+</td>\n",
              "      <td>+ZaaZozy/+</td>\n",
              "    </tr>\n",
              "    <tr>\n",
              "      <th>3</th>\n",
              "      <td>sms</td>\n",
              "      <td>0</td>\n",
              "      <td>2012-05-08 23:03:04.0</td>\n",
              "      <td>0</td>\n",
              "      <td>8ab8b9ed6989f61</td>\n",
              "      <td>e09e736e46c5c3d</td>\n",
              "      <td>19e2e</td>\n",
              "      <td>19e2e</td>\n",
              "      <td>+cNeJzsTp3</td>\n",
              "      <td>+cNeJzsTp3</td>\n",
              "    </tr>\n",
              "    <tr>\n",
              "      <th>4</th>\n",
              "      <td>Voice</td>\n",
              "      <td>22</td>\n",
              "      <td>2012-05-08 23:03:16.0</td>\n",
              "      <td>4</td>\n",
              "      <td>52662a62b199334</td>\n",
              "      <td>2186273faab4602</td>\n",
              "      <td>19e2e</td>\n",
              "      <td>19e2e</td>\n",
              "      <td>/eeMklgyJA</td>\n",
              "      <td>/eeMklgyJA</td>\n",
              "    </tr>\n",
              "  </tbody>\n",
              "</table>\n",
              "</div>"
            ],
            "text/plain": [
              "  PRODUCT  VALUE              DATE_TIME  ... COUNTRY_B      CELLID     SIET_ID\n",
              "0   Voice     61  2012-05-08 23:01:28.0  ...     19e2e  +38u2u/rfx  +38u2u/rfx\n",
              "1     sms      0  2012-05-08 23:01:31.0  ...     19e2e  +Fs4mTvdKx  +Fs4mTvdKx\n",
              "2   Voice     10  2012-05-08 23:02:59.0  ...     19e2e  +ZaaZozy/+  +ZaaZozy/+\n",
              "3     sms      0  2012-05-08 23:03:04.0  ...     19e2e  +cNeJzsTp3  +cNeJzsTp3\n",
              "4   Voice     22  2012-05-08 23:03:16.0  ...     19e2e  /eeMklgyJA  /eeMklgyJA\n",
              "\n",
              "[5 rows x 10 columns]"
            ]
          },
          "metadata": {},
          "execution_count": 15
        }
      ]
    },
    {
      "cell_type": "code",
      "metadata": {
        "id": "UtSimZ67Wdle",
        "colab": {
          "base_uri": "https://localhost:8080/",
          "height": 281
        },
        "outputId": "0dd7a7c8-30ef-4bbd-8618-63dc6ee60db2"
      },
      "source": [
        "#key data variables missing in the presentation and so proceede with plotting the value the company gets in general\n",
        "df1['VALUE'].plot()"
      ],
      "execution_count": null,
      "outputs": [
        {
          "output_type": "execute_result",
          "data": {
            "text/plain": [
              "<matplotlib.axes._subplots.AxesSubplot at 0x7f39668fbf50>"
            ]
          },
          "metadata": {},
          "execution_count": 8
        },
        {
          "output_type": "display_data",
          "data": {
            "image/png": "[encoded data removed]",
            "text/plain": [
              "<Figure size 432x288 with 1 Axes>"
            ]
          },
          "metadata": {
            "needs_background": "light"
          }
        }
      ]
    },
    {
      "cell_type": "code",
      "metadata": {
        "id": "QiV1zWLOWbqa",
        "colab": {
          "base_uri": "https://localhost:8080/",
          "height": 283
        },
        "outputId": "b72dbd4c-71ce-46e8-e73b-2a52175980a7"
      },
      "source": [
        "#key data variables missing in the presentation and so proceede with plotting the value in dataset 2 the company gets in general\n",
        "\n",
        "df2['VALUE'].plot()"
      ],
      "execution_count": null,
      "outputs": [
        {
          "output_type": "execute_result",
          "data": {
            "text/plain": [
              "<matplotlib.axes._subplots.AxesSubplot at 0x7f3966186410>"
            ]
          },
          "metadata": {},
          "execution_count": 16
        },
        {
          "output_type": "display_data",
          "data": {
            "image/png": "[encoded data removed]",
            "text/plain": [
              "<Figure size 432x288 with 1 Axes>"
            ]
          },
          "metadata": {
            "needs_background": "light"
          }
        }
      ]
    },
    {
      "cell_type": "code",
      "metadata": {
        "colab": {
          "base_uri": "https://localhost:8080/",
          "height": 281
        },
        "id": "k_eZ-FM2GFwP",
        "outputId": "9ed0e0aa-10e7-4ded-f41e-52f753374524"
      },
      "source": [
        "#key data variables missing in the presentation and so proceede with plotting the value the company gets in general\n",
        "\n",
        "df3['VALUE'].plot()"
      ],
      "execution_count": null,
      "outputs": [
        {
          "output_type": "execute_result",
          "data": {
            "text/plain": [
              "<matplotlib.axes._subplots.AxesSubplot at 0x7f3966038f90>"
            ]
          },
          "metadata": {},
          "execution_count": 17
        },
        {
          "output_type": "display_data",
          "data": {
            "image/png": "[encoded data removed]",
            "text/plain": [
              "<Figure size 432x288 with 1 Axes>"
            ]
          },
          "metadata": {
            "needs_background": "light"
          }
        }
      ]
    },
    {
      "cell_type": "code",
      "metadata": {
        "id": "hjX5UC4ZGhSN"
      },
      "source": [
        "#Conclusion\n",
        "#I was limited in my  data analysis in MTN due to  dadta that may have been corrupted or incomlplete.\n",
        "#as a result I instead worked on calculating just the values through matplotlib just to understnd the limited data that was provided."
      ],
      "execution_count": null,
      "outputs": []
    }
  ]
}
